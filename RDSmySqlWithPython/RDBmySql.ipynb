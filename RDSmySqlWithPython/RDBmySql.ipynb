{
 "cells": [
  {
   "cell_type": "code",
   "execution_count": 1,
   "metadata": {},
   "outputs": [
    {
     "name": "stdout",
     "output_type": "stream",
     "text": [
      "Collecting PyMySQL\n",
      "  Downloading PyMySQL-0.9.3-py2.py3-none-any.whl (47 kB)\n",
      "Installing collected packages: PyMySQL\n",
      "Successfully installed PyMySQL-0.9.3\n",
      "Note: you may need to restart the kernel to use updated packages.\n"
     ]
    }
   ],
   "source": [
    "pip install PyMySQL"
   ]
  },
  {
   "cell_type": "code",
   "execution_count": 9,
   "metadata": {},
   "outputs": [
    {
     "name": "stdout",
     "output_type": "stream",
     "text": [
      "{'idDSTI_Course': 1, 'Course_Name': 'Amazon AWS', 'Course_Description': 'Cloud computing DSTI Chair'}\n",
      "{'idDSTI_Course': 2, 'Course_Name': 'Software Engineering', 'Course_Description': 'Software Engineering'}\n",
      "{'idDSTI_Course': 3, 'Course_Name': 'Massive and High Dimensional', 'Course_Description': 'Massive and High Dimensional'}\n",
      "{'idDSTI_Course': 8, 'Course_Name': 'Meta-Heuristic', 'Course_Description': 'Meta-Heuristic'}\n"
     ]
    }
   ],
   "source": [
    "import pymysql.cursors\n",
    "\n",
    "# Connect to the database\n",
    "connection = pymysql.connect(host='s20erick.cplflxar922u.us-east-1.rds.amazonaws.com',\n",
    "                             user='admin',\n",
    "                             password='a%Dnr5h1mW^P',\n",
    "                             db='Erick',\n",
    "                             charset='utf8mb4',\n",
    "                             cursorclass=pymysql.cursors.DictCursor)\n",
    "\n",
    "\n",
    "try:\n",
    "    with connection.cursor() as cursor:\n",
    "        # Create a new record\n",
    "        sql = \"INSERT INTO `DSTI_Course` (`Course_Name`, `Course_Description`) VALUES (%s, %s)\"\n",
    "        cursor.execute(sql, ('Meta-Heuristic', 'Meta-Heuristic'))\n",
    "\n",
    "    # connection is not autocommit by default. So you must commit to save\n",
    "    # your changes.\n",
    "    connection.commit()\n",
    "    \n",
    "    with connection.cursor() as cursor:\n",
    "        # Read a single record\n",
    "        sql = \"\"\"SELECT * FROM DSTI_Course\"\"\"\n",
    "        cursor.execute(sql)\n",
    "        results = cursor.fetchall()\n",
    "        for row in results:\n",
    "            print(row)\n",
    "finally:\n",
    "    connection.close()"
   ]
  },
  {
   "cell_type": "code",
   "execution_count": null,
   "metadata": {},
   "outputs": [],
   "source": []
  }
 ],
 "metadata": {
  "kernelspec": {
   "display_name": "Python 3",
   "language": "python",
   "name": "python3"
  },
  "language_info": {
   "codemirror_mode": {
    "name": "ipython",
    "version": 3
   },
   "file_extension": ".py",
   "mimetype": "text/x-python",
   "name": "python",
   "nbconvert_exporter": "python",
   "pygments_lexer": "ipython3",
   "version": "3.8.2"
  }
 },
 "nbformat": 4,
 "nbformat_minor": 4
}
