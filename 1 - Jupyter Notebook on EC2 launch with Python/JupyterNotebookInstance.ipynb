{
 "cells": [
  {
   "cell_type": "code",
   "execution_count": 1,
   "metadata": {
    "collapsed": true
   },
   "outputs": [
    {
     "name": "stdout",
     "output_type": "stream",
     "text": [
      "Collecting boto3\n",
      "  Downloading boto3-1.14.19-py2.py3-none-any.whl (128 kB)\n",
      "Collecting botocore<1.18.0,>=1.17.19\n",
      "  Downloading botocore-1.17.19-py2.py3-none-any.whl (6.3 MB)\n",
      "Collecting s3transfer<0.4.0,>=0.3.0\n",
      "  Downloading s3transfer-0.3.3-py2.py3-none-any.whl (69 kB)\n",
      "Collecting jmespath<1.0.0,>=0.7.1\n",
      "  Downloading jmespath-0.10.0-py2.py3-none-any.whl (24 kB)\n",
      "Requirement already satisfied: urllib3<1.26,>=1.20; python_version != \"3.4\" in c:\\users\\erick\\appdata\\local\\programs\\python\\python38-32\\lib\\site-packages (from botocore<1.18.0,>=1.17.19->boto3) (1.25.8)\n",
      "Collecting docutils<0.16,>=0.10\n",
      "  Downloading docutils-0.15.2-py3-none-any.whl (547 kB)\n",
      "Requirement already satisfied: python-dateutil<3.0.0,>=2.1 in c:\\users\\erick\\appdata\\local\\programs\\python\\python38-32\\lib\\site-packages (from botocore<1.18.0,>=1.17.19->boto3) (2.8.1)\n",
      "Requirement already satisfied: six>=1.5 in c:\\users\\erick\\appdata\\local\\programs\\python\\python38-32\\lib\\site-packages (from python-dateutil<3.0.0,>=2.1->botocore<1.18.0,>=1.17.19->boto3) (1.14.0)\n",
      "Installing collected packages: jmespath, docutils, botocore, s3transfer, boto3\n",
      "Successfully installed boto3-1.14.19 botocore-1.17.19 docutils-0.15.2 jmespath-0.10.0 s3transfer-0.3.3\n",
      "Note: you may need to restart the kernel to use updated packages.\n"
     ]
    }
   ],
   "source": [
    "pip install boto3 # install the boto3 library"
   ]
  },
  {
   "cell_type": "markdown",
   "metadata": {},
   "source": [
    "# EC2 with Jupyter Notebook"
   ]
  },
  {
   "cell_type": "code",
   "execution_count": 18,
   "metadata": {
    "scrolled": true
   },
   "outputs": [
    {
     "name": "stdout",
     "output_type": "stream",
     "text": [
      "[ec2.Instance(id='i-0da0d136bd511fae3')]\n",
      "ubuntu@ec2-54-152-253-124.compute-1.amazonaws.com\n",
      "['C:\\\\temp\\\\ssh.exe', '-i', 'C:\\\\Users/erick/.ssh/S20KEYPAIR2EK.pem', '-o', 'StrictHostKeyChecking no', '-L', '8889:localhost:8889', 'ubuntu@ec2-35-172-227-224.compute-1.amazonaws.com', 'jupyter notebook list'] None <bound method Popen.poll of <subprocess.Popen object at 0x0869CA48>> 127 <_io.BufferedReader name=6>\n",
      "before wait\n",
      "after wait\n",
      "['C:\\\\temp\\\\ssh.exe', '-i', 'C:\\\\Users/erick/.ssh/S20KEYPAIR2EK.pem', '-o', 'StrictHostKeyChecking no', '-L', '8889:localhost:8889', 'ubuntu@ec2-54-152-253-124.compute-1.amazonaws.com', 'jupyter notebook --no-browser --port 8889'] None <bound method Popen.poll of <subprocess.Popen object at 0x0861EC88>> None <_io.BufferedReader name=6>\n",
      "first Popen ok\n",
      "ssh stdout:\n",
      "b'Currently running servers:\\nhttp://localhost:8889/?token=5d8684f6c0c25b4dd65e82af5ffb2774ab8d3cc9878163c2 :: /home/ubuntu\\n'\n",
      "ssh stderr:\n",
      "b''\n"
     ]
    },
    {
     "data": {
      "text/plain": [
       "True"
      ]
     },
     "execution_count": 18,
     "metadata": {},
     "output_type": "execute_result"
    }
   ],
   "source": [
    "import os\n",
    "import subprocess\n",
    "import boto3\n",
    "import webbrowser\n",
    "from time import time\n",
    "\n",
    "# create the EC2 ressource for the authorized region, here us-east-1\n",
    "ec2 = boto3.resource('ec2',region_name='us-east-1')\n",
    "\n",
    "# prepare the user_data script that will, install the apache server and copy the php file from the S3 bucket\n",
    "user_data = '''#!/bin/bash\n",
    "sudo apt -y update\n",
    "sudo apt -y install python3-pip python3-dev\n",
    "sudo -H pip3 install --upgrade pip\n",
    "sudo -H pip3 install virtualenv\n",
    "pip install jupyter'''\n",
    "\n",
    "# launch the EC2 instance with the following parameters\n",
    "# ImageId = ubuntu linux\n",
    "\n",
    "instance = ec2.create_instances(ImageId='ami-0ac80df6eff0e70b5', MinCount=1, MaxCount=1, \\\n",
    "                                KeyName='S20KEYPAIR2EK', SecurityGroupIds=['sg-03ce1dd2567031e9d'], UserData=user_data, \\\n",
    "                                InstanceType='t2.micro', SubnetId='subnet-0e7d6b8d0b33abad9')\n",
    "print(instance)\n",
    "\n",
    "instanceId = instance[0].instance_id\n",
    "\n",
    "start = now = time()\n",
    "instanceStatus = ''\n",
    "Ok = False\n",
    "while (now - start < 100) and (Ok == False):\n",
    "    try:\n",
    "        status = ec2.meta.client.describe_instance_status(InstanceIds=[instanceId])['InstanceStatuses']\n",
    "    except:\n",
    "        pass\n",
    "    try:\n",
    "        instanceStatus = status[0]['SystemStatus']['Status']\n",
    "    except:\n",
    "        pass\n",
    "    #print(instanceStatus)\n",
    "    if instanceStatus == 'ok':\n",
    "        Ok = True\n",
    "    now = time()\n",
    "\n",
    "ec2c = boto3.client('ec2',region_name='us-east-1')\n",
    "response = ec2c.describe_instances(InstanceIds=[instance[0].instance_id])\n",
    "dns = response['Reservations'][0]['Instances'][0]['PublicDnsName']\n",
    "\n",
    "user_dns = 'ubuntu@' + dns\n",
    "print(user_dns)\n",
    "print(ssh.args,ssh.errors,ssh.poll,ssh.returncode,ssh.stderr)\n",
    "\n",
    "print('before wait')\n",
    "\n",
    "start = now = time()\n",
    "\n",
    "while (now - start < 60):\n",
    "    now = time()\n",
    "print('after wait')\n",
    "\n",
    "\n",
    "ssh = subprocess.Popen(['C:\\\\temp\\\\ssh.exe','-i','C:\\\\Users/erick/.ssh/S20KEYPAIR2EK.pem', \n",
    "                        '-o', 'StrictHostKeyChecking no',\n",
    "                        '-L', '8889:localhost:8889',\n",
    "                        user_dns, 'jupyter notebook --no-browser --port 8889'], shell=False, \n",
    "                       stdin=subprocess.PIPE,\n",
    "                       stdout=subprocess.PIPE,\n",
    "                       stderr=subprocess.PIPE)\n",
    "\n",
    "print(ssh.args,ssh.errors,ssh.poll,ssh.returncode,ssh.stderr)\n",
    "#std_data = ssh.communicate()\n",
    "#print(\"ssh stdout:\\n{}\".format(std_data[0]))\n",
    "#print(\"ssh stderr:\\n{}\".format(std_data[1]))\n",
    "\n",
    "print('first Popen ok')\n",
    "\n",
    "url= \"'\"\n",
    "start = now = time()\n",
    "Ok = False\n",
    "while (now - start < 10) and (Ok == False):\n",
    "        ssh = subprocess.Popen(['C:\\\\temp\\\\ssh.exe','-i','C:\\\\Users/erick/.ssh/S20KEYPAIR2EK.pem', \n",
    "                        '-o', 'StrictHostKeyChecking no',\n",
    "                        '-L', '8889:localhost:8889',\n",
    "                        user_dns, 'jupyter notebook list'], shell=False, \n",
    "                       stdin=subprocess.PIPE,\n",
    "                       stdout=subprocess.PIPE,\n",
    "                       stderr=subprocess.PIPE)\n",
    "\n",
    "        std_data = ssh.communicate()\n",
    "        #print(\"ssh stdout:\\n{}\".format(std_data[0]))\n",
    "        try:\n",
    "            liste1 = str(std_data[0]).split(' ')\n",
    "            liste2 = liste1[2].split('\\\\n')\n",
    "            url = liste2[1]\n",
    "        except:\n",
    "            pass\n",
    "        if url != \"'\":\n",
    "            Ok = True\n",
    "        now = time()\n",
    "print(\"ssh stdout:\\n{}\".format(std_data[0]))\n",
    "print(\"ssh stderr:\\n{}\".format(std_data[1]))\n",
    "#print(url)\n",
    "webbrowser.open(url, new=2)\n",
    "\n"
   ]
  }
 ],
 "metadata": {
  "kernelspec": {
   "display_name": "Python 3",
   "language": "python",
   "name": "python3"
  },
  "language_info": {
   "codemirror_mode": {
    "name": "ipython",
    "version": 3
   },
   "file_extension": ".py",
   "mimetype": "text/x-python",
   "name": "python",
   "nbconvert_exporter": "python",
   "pygments_lexer": "ipython3",
   "version": "3.8.2"
  }
 },
 "nbformat": 4,
 "nbformat_minor": 4
}
