{
 "cells": [
  {
   "cell_type": "code",
   "execution_count": 1,
   "metadata": {},
   "outputs": [
    {
     "name": "stdout",
     "output_type": "stream",
     "text": [
      "Collecting boto3\n",
      "  Downloading boto3-1.14.19-py2.py3-none-any.whl (128 kB)\n",
      "Collecting botocore<1.18.0,>=1.17.19\n",
      "  Downloading botocore-1.17.19-py2.py3-none-any.whl (6.3 MB)\n",
      "Collecting s3transfer<0.4.0,>=0.3.0\n",
      "  Downloading s3transfer-0.3.3-py2.py3-none-any.whl (69 kB)\n",
      "Collecting jmespath<1.0.0,>=0.7.1\n",
      "  Downloading jmespath-0.10.0-py2.py3-none-any.whl (24 kB)\n",
      "Requirement already satisfied: urllib3<1.26,>=1.20; python_version != \"3.4\" in c:\\users\\erick\\appdata\\local\\programs\\python\\python38-32\\lib\\site-packages (from botocore<1.18.0,>=1.17.19->boto3) (1.25.8)\n",
      "Collecting docutils<0.16,>=0.10\n",
      "  Downloading docutils-0.15.2-py3-none-any.whl (547 kB)\n",
      "Requirement already satisfied: python-dateutil<3.0.0,>=2.1 in c:\\users\\erick\\appdata\\local\\programs\\python\\python38-32\\lib\\site-packages (from botocore<1.18.0,>=1.17.19->boto3) (2.8.1)\n",
      "Requirement already satisfied: six>=1.5 in c:\\users\\erick\\appdata\\local\\programs\\python\\python38-32\\lib\\site-packages (from python-dateutil<3.0.0,>=2.1->botocore<1.18.0,>=1.17.19->boto3) (1.14.0)\n",
      "Installing collected packages: jmespath, docutils, botocore, s3transfer, boto3\n",
      "Successfully installed boto3-1.14.19 botocore-1.17.19 docutils-0.15.2 jmespath-0.10.0 s3transfer-0.3.3\n",
      "Note: you may need to restart the kernel to use updated packages.\n"
     ]
    }
   ],
   "source": [
    "pip install boto3 # install the boto3 library"
   ]
  },
  {
   "cell_type": "code",
   "execution_count": 2,
   "metadata": {},
   "outputs": [],
   "source": [
    "import boto3"
   ]
  },
  {
   "cell_type": "code",
   "execution_count": 23,
   "metadata": {},
   "outputs": [],
   "source": [
    "# create the EC2 ressource for the authorized region, here us-east-1\n",
    "ec2 = boto3.resource('ec2',region_name='us-east-1')\n",
    "\n",
    "# prepare the user_data script that will, install the apache server and copy the php file from the S3 bucket\n",
    "user_data = '''#!/bin/bash\n",
    "apt-get -y update\n",
    "apt-get -y install apache2\n",
    "apt -y install php libapache2-mod-php\n",
    "systemctl restart apache2.service\n",
    "sudo apt -y install awscli\n",
    "aws s3 cp s3://s20bucketforuserdata/amazonspython.php /var/www/html/amazonspython.php'''\n",
    "\n",
    "# launch the EC2 instance with the following parameters\n",
    "# ImageId = ubuntu linux\n",
    "\n",
    "instance = ec2.create_instances(ImageId='ami-0ac80df6eff0e70b5', MinCount=1, MaxCount=1, \\\n",
    "                                KeyName='S20KEYPAIR2EK', SecurityGroupIds=['sg-052dd73541001d9d3'], UserData=user_data, \\\n",
    "                                InstanceType='t2.micro', SubnetId='subnet-0e7d6b8d0b33abad9',\\\n",
    "                                 IamInstanceProfile={ \\\n",
    "                                    'Arn': 'arn:aws:iam::686817506256:instance-profile/S20AccesS3' \\\n",
    "                                                     })\n"
   ]
  },
  {
   "cell_type": "code",
   "execution_count": null,
   "metadata": {},
   "outputs": [],
   "source": []
  }
 ],
 "metadata": {
  "kernelspec": {
   "display_name": "Python 3",
   "language": "python",
   "name": "python3"
  },
  "language_info": {
   "codemirror_mode": {
    "name": "ipython",
    "version": 3
   },
   "file_extension": ".py",
   "mimetype": "text/x-python",
   "name": "python",
   "nbconvert_exporter": "python",
   "pygments_lexer": "ipython3",
   "version": "3.8.2"
  }
 },
 "nbformat": 4,
 "nbformat_minor": 4
}
